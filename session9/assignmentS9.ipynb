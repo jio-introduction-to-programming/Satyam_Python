{
 "cells": [
  {
   "cell_type": "markdown",
   "metadata": {},
   "source": [
    "Topic 1: Modules / Packages\n",
    "\n",
    "## Research: \n",
    "- Investigate the difference between a module and a package in Python. Provide examples to illustrate how they are used and their significance in Python programming. You can explain by writing an \n",
    "article and providing relevant examples. \n",
    "\n",
    "## Ans.\n",
    "In Python, a **module** is a simple Python file that contains collections of functions and global variables and has a .py extension file. It is an executable file and to organize all the modules we have the concept called **Package** in Python. A **package** is a simple directory having collections of modules. This directory contains Python modules and also having __init__.py file by which the interpreter interprets it as a Package. The package is simply a namespace. The package also contains sub-packages inside it ¹².\n",
    "\n",
    "For example, let's say you have a directory named \"my_package\" which contains two files: \"module1.py\" and \"module2.py\". You can import these modules in another Python script using the following syntax:\n",
    "\n",
    "```python\n",
    "import my_package.module1\n",
    "import my_package.module2\n",
    "```\n",
    "\n",
    "You can also import all the modules in the package using the following syntax:\n",
    "\n",
    "```python\n",
    "from my_package import *\n",
    "```\n",
    "\n",
    "This will import all the modules in the package."
   ]
  },
  {
   "cell_type": "markdown",
   "metadata": {},
   "source": [
    "## Implementation: \n",
    "- Create a Python module named \"math_operations.py\" that contains functions for basic mathematical operations such as addition, subtraction, multiplication, and division. Import this module into another Python script and demonstrate the usage of its functions.\n"
   ]
  },
  {
   "cell_type": "markdown",
   "metadata": {},
   "source": [
    "## Ans"
   ]
  },
  {
   "cell_type": "code",
   "execution_count": 1,
   "metadata": {},
   "outputs": [
    {
     "name": "stdout",
     "output_type": "stream",
     "text": [
      "5\n",
      "1\n",
      "6\n",
      "1.5\n"
     ]
    }
   ],
   "source": [
    "# Created the module math_operations in the same directory and importing here:\n",
    "import math_operations as mo\n",
    "\n",
    "a, b = 3, 2\n",
    "print(mo.addition(a,b))\n",
    "print(mo.subtraction(a,b))\n",
    "print(mo.multiplication(a,b))\n",
    "print(mo.division(a,b))"
   ]
  },
  {
   "cell_type": "markdown",
   "metadata": {},
   "source": [
    "## Exploration: \n",
    "- Research and explore popular third-party packages available in the Python Package Index (PyPI). Choose one package that interests you and explain its purpose, functionality, and how to install and use it in your Python projects."
   ]
  },
  {
   "cell_type": "markdown",
   "metadata": {},
   "source": [
    "## Ans."
   ]
  },
  {
   "cell_type": "markdown",
   "metadata": {},
   "source": [
    "One of the popular third-party packages available in PyPI is Pandas. Pandas is an open-source data manipulation and analysis library. It provides data structures for efficiently storing and manipulating large datasets and tools for working with structured data.\n",
    "\n",
    "To install Pandas, we can use pip, which is a package installer for Python. We can install it by running the following command in your terminal:\n",
    "```\n",
    "pip install pandas\n",
    "```\n",
    "After installing Pandas, you can import it in your Python project using the following command:\n",
    "```\n",
    "import pandas as pd\n",
    "```\n",
    "We can then use Pandas to read data from various sources such as CSV files, Excel spreadsheets, SQL databases, and more. We can also use it to manipulate and analyze data using functions such as filtering, grouping, merging, and more."
   ]
  },
  {
   "cell_type": "code",
   "execution_count": null,
   "metadata": {},
   "outputs": [],
   "source": []
  }
 ],
 "metadata": {
  "kernelspec": {
   "display_name": "Python 3",
   "language": "python",
   "name": "python3"
  },
  "language_info": {
   "codemirror_mode": {
    "name": "ipython",
    "version": 3
   },
   "file_extension": ".py",
   "mimetype": "text/x-python",
   "name": "python",
   "nbconvert_exporter": "python",
   "pygments_lexer": "ipython3",
   "version": "3.11.4"
  },
  "orig_nbformat": 4
 },
 "nbformat": 4,
 "nbformat_minor": 2
}
